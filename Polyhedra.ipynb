{
 "cells": [
  {
   "cell_type": "code",
   "execution_count": 1,
   "metadata": {},
   "outputs": [],
   "source": [
    "using JuMP, Polyhedra, CDDLib"
   ]
  },
  {
   "cell_type": "code",
   "execution_count": 2,
   "metadata": {},
   "outputs": [
    {
     "data": {
      "text/latex": [
       "$$ \\begin{alignat*}{1}\\min\\quad & 0\\\\\n",
       "\\text{Subject to} \\quad & x_{1} - y_{1} \\leq 0\\\\\n",
       " & x_{2} - y_{2} \\leq 0\\\\\n",
       " & x_{3} - y_{3} \\leq 0\\\\\n",
       " & -x_{1} - y_{1} \\leq 0\\\\\n",
       " & -x_{2} - y_{2} \\leq 0\\\\\n",
       " & -x_{3} - y_{3} \\leq 0\\\\\n",
       " & y_{1} + y_{2} + y_{3} \\leq 1\\\\\n",
       " & x_{i} \\quad\\forall i \\in \\{1,2,3\\}\\\\\n",
       " & y_{i} \\geq 0 \\quad\\forall i \\in \\{1,2,3\\}\\\\\n",
       "\\end{alignat*}\n",
       " $$"
      ],
      "text/plain": [
       "Feasibility problem with:\n",
       " * 7 linear constraints\n",
       " * 6 variables\n",
       "Solver is default solver"
      ]
     },
     "execution_count": 2,
     "metadata": {},
     "output_type": "execute_result"
    }
   ],
   "source": [
    "m = Model()\n",
    "n = 3\n",
    "@variable(m, x[1:n])\n",
    "@variable(m, y[1:n] >= 0)\n",
    "@constraint(m,[i=1:n],  x[i] <= y[i])\n",
    "@constraint(m,[i=1:n], -x[i] <= y[i])\n",
    "@constraint(m, sum(y) <= 1)\n",
    "m"
   ]
  },
  {
   "cell_type": "code",
   "execution_count": 3,
   "metadata": {},
   "outputs": [
    {
     "data": {
      "text/plain": [
       "Polyhedron CDDLib.CDDPolyhedron{6,Rational{BigInt}}:\n",
       "10-element iterator of Polyhedra.HalfSpace{6,Rational{BigInt},Array{Rational{BigInt},1}}:\n",
       " HalfSpace(Rational{BigInt}[0//1, 0//1, 0//1, -1//1, 0//1, 0//1], 0//1)\n",
       " HalfSpace(Rational{BigInt}[0//1, 0//1, 0//1, 0//1, -1//1, 0//1], 0//1)\n",
       " HalfSpace(Rational{BigInt}[0//1, 0//1, 0//1, 0//1, 0//1, -1//1], 0//1)\n",
       " HalfSpace(Rational{BigInt}[1//1, 0//1, 0//1, -1//1, 0//1, 0//1], 0//1)\n",
       " HalfSpace(Rational{BigInt}[0//1, 1//1, 0//1, 0//1, -1//1, 0//1], 0//1)\n",
       " HalfSpace(Rational{BigInt}[0//1, 0//1, 1//1, 0//1, 0//1, -1//1], 0//1)\n",
       " HalfSpace(Rational{BigInt}[-1//1, 0//1, 0//1, -1//1, 0//1, 0//1], 0//1)\n",
       " HalfSpace(Rational{BigInt}[0//1, -1//1, 0//1, 0//1, -1//1, 0//1], 0//1)\n",
       " HalfSpace(Rational{BigInt}[0//1, 0//1, -1//1, 0//1, 0//1, -1//1], 0//1)\n",
       " HalfSpace(Rational{BigInt}[0//1, 0//1, 0//1, 1//1, 1//1, 1//1], 1//1)"
      ]
     },
     "execution_count": 3,
     "metadata": {},
     "output_type": "execute_result"
    }
   ],
   "source": [
    "poly = polyhedron(m, CDDLibrary(:exact))"
   ]
  },
  {
   "cell_type": "code",
   "execution_count": 4,
   "metadata": {},
   "outputs": [
    {
     "data": {
      "text/plain": [
       "H-representation CDDLib.CDDInequalityMatrix{3,Rational{BigInt},CDDLib.GMPRational}:\n",
       "27-element iterator of Polyhedra.HalfSpace{3,Rational{BigInt},Array{Rational{BigInt},1}}:\n",
       " HalfSpace(Rational{BigInt}[0//1, -1//1, -1//1], 1//1)\n",
       " HalfSpace(Rational{BigInt}[0//1, -1//1, 1//1], 1//1)\n",
       " HalfSpace(Rational{BigInt}[0//1, 1//1, -1//1], 1//1)\n",
       " HalfSpace(Rational{BigInt}[0//1, 1//1, 1//1], 1//1)\n",
       " HalfSpace(Rational{BigInt}[0//1, -1//1, 0//1], 1//1)\n",
       " HalfSpace(Rational{BigInt}[0//1, 1//1, 0//1], 1//1)\n",
       " HalfSpace(Rational{BigInt}[0//1, 0//1, 0//1], 1//1)\n",
       " HalfSpace(Rational{BigInt}[0//1, 0//1, 1//1], 1//1)\n",
       " HalfSpace(Rational{BigInt}[0//1, 0//1, -1//1], 1//1)\n",
       " HalfSpace(Rational{BigInt}[1//1, 0//1, 0//1], 1//1)\n",
       " HalfSpace(Rational{BigInt}[-1//1, 0//1, 0//1], 1//1)\n",
       " HalfSpace(Rational{BigInt}[1//1, 0//1, 1//1], 1//1)\n",
       " HalfSpace(Rational{BigInt}[1//1, 0//1, -1//1], 1//1)\n",
       " HalfSpace(Rational{BigInt}[-1//1, 0//1, 1//1], 1//1)\n",
       " HalfSpace(Rational{BigInt}[-1//1, 0//1, -1//1], 1//1)\n",
       " HalfSpace(Rational{BigInt}[1//1, 1//1, 0//1], 1//1)\n",
       " HalfSpace(Rational{BigInt}[1//1, -1//1, 0//1], 1//1)\n",
       " HalfSpace(Rational{BigInt}[1//1, 1//1, 1//1], 1//1)\n",
       " HalfSpace(Rational{BigInt}[1//1, 1//1, -1//1], 1//1)\n",
       " HalfSpace(Rational{BigInt}[1//1, -1//1, 1//1], 1//1)\n",
       " HalfSpace(Rational{BigInt}[1//1, -1//1, -1//1], 1//1)\n",
       " HalfSpace(Rational{BigInt}[-1//1, 1//1, 0//1], 1//1)\n",
       " HalfSpace(Rational{BigInt}[-1//1, -1//1, 0//1], 1//1)\n",
       " HalfSpace(Rational{BigInt}[-1//1, 1//1, 1//1], 1//1)\n",
       " HalfSpace(Rational{BigInt}[-1//1, 1//1, -1//1], 1//1)\n",
       " HalfSpace(Rational{BigInt}[-1//1, -1//1, 1//1], 1//1)\n",
       "  ⋮"
      ]
     },
     "execution_count": 4,
     "metadata": {},
     "output_type": "execute_result"
    }
   ],
   "source": [
    "poly_x = eliminate(poly, n+1:2n)\n",
    "hrep(poly_x)"
   ]
  },
  {
   "cell_type": "code",
   "execution_count": 5,
   "metadata": {},
   "outputs": [
    {
     "data": {
      "text/plain": [
       "H-representation CDDLib.CDDInequalityMatrix{3,Rational{BigInt},CDDLib.GMPRational}:\n",
       "8-element iterator of Polyhedra.HalfSpace{3,Rational{BigInt},Array{Rational{BigInt},1}}:\n",
       " HalfSpace(Rational{BigInt}[1//1, 1//1, 1//1], 1//1)\n",
       " HalfSpace(Rational{BigInt}[1//1, 1//1, -1//1], 1//1)\n",
       " HalfSpace(Rational{BigInt}[1//1, -1//1, 1//1], 1//1)\n",
       " HalfSpace(Rational{BigInt}[1//1, -1//1, -1//1], 1//1)\n",
       " HalfSpace(Rational{BigInt}[-1//1, 1//1, 1//1], 1//1)\n",
       " HalfSpace(Rational{BigInt}[-1//1, 1//1, -1//1], 1//1)\n",
       " HalfSpace(Rational{BigInt}[-1//1, -1//1, 1//1], 1//1)\n",
       " HalfSpace(Rational{BigInt}[-1//1, -1//1, -1//1], 1//1)"
      ]
     },
     "execution_count": 5,
     "metadata": {},
     "output_type": "execute_result"
    }
   ],
   "source": [
    "removehredundancy!(poly_x)\n",
    "hrep(poly_x)"
   ]
  },
  {
   "cell_type": "code",
   "execution_count": 6,
   "metadata": {},
   "outputs": [
    {
     "data": {
      "text/plain": [
       "V-representation CDDLib.CDDGeneratorMatrix{3,Rational{BigInt},CDDLib.GMPRational}:\n",
       "6-element iterator of Array{Rational{BigInt},1}:\n",
       " Rational{BigInt}[0//1, 0//1, 1//1]\n",
       " Rational{BigInt}[1//1, 0//1, 0//1]\n",
       " Rational{BigInt}[0//1, 1//1, 0//1]\n",
       " Rational{BigInt}[0//1, 0//1, -1//1]\n",
       " Rational{BigInt}[0//1, -1//1, 0//1]\n",
       " Rational{BigInt}[-1//1, 0//1, 0//1]"
      ]
     },
     "execution_count": 6,
     "metadata": {},
     "output_type": "execute_result"
    }
   ],
   "source": [
    "vrep(poly_x)"
   ]
  },
  {
   "cell_type": "code",
   "execution_count": 7,
   "metadata": {},
   "outputs": [
    {
     "data": {
      "text/plain": [
       "V-representation CDDLib.CDDGeneratorMatrix{3,Rational{BigInt},CDDLib.GMPRational}:\n",
       "6-element iterator of Array{Rational{BigInt},1}:\n",
       " Rational{BigInt}[0//1, 0//1, 1//1]\n",
       " Rational{BigInt}[1//1, 0//1, 0//1]\n",
       " Rational{BigInt}[0//1, 1//1, 0//1]\n",
       " Rational{BigInt}[0//1, 0//1, -1//1]\n",
       " Rational{BigInt}[0//1, -1//1, 0//1]\n",
       " Rational{BigInt}[-1//1, 0//1, 0//1]"
      ]
     },
     "execution_count": 7,
     "metadata": {},
     "output_type": "execute_result"
    }
   ],
   "source": [
    "removevredundancy!(poly_x)\n",
    "vrep(poly_x)"
   ]
  },
  {
   "cell_type": "code",
   "execution_count": null,
   "metadata": {
    "collapsed": true
   },
   "outputs": [],
   "source": []
  }
 ],
 "metadata": {
  "kernelspec": {
   "display_name": "Julia 0.6.2",
   "language": "julia",
   "name": "julia-0.6"
  },
  "language_info": {
   "file_extension": ".jl",
   "mimetype": "application/julia",
   "name": "julia",
   "version": "0.6.2"
  }
 },
 "nbformat": 4,
 "nbformat_minor": 2
}
